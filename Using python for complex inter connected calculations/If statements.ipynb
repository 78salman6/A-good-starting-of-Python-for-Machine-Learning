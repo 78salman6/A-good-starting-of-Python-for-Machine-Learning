{
 "cells": [
  {
   "cell_type": "code",
   "execution_count": 1,
   "metadata": {},
   "outputs": [
    {
     "name": "stdout",
     "output_type": "stream",
     "text": [
      "25 is less than 30\n"
     ]
    }
   ],
   "source": [
    "if 25 < 30:\n",
    "    print(\"25 is less than 30\")"
   ]
  },
  {
   "cell_type": "code",
   "execution_count": 2,
   "metadata": {},
   "outputs": [
    {
     "name": "stdout",
     "output_type": "stream",
     "text": [
      "25 is not equal to 35\n"
     ]
    }
   ],
   "source": [
    "if not 25 == 35:\n",
    "    print(\"25 is not equal to 35\")"
   ]
  },
  {
   "cell_type": "code",
   "execution_count": 3,
   "metadata": {},
   "outputs": [
    {
     "ename": "SyntaxError",
     "evalue": "invalid syntax (<ipython-input-3-2485efcfff4a>, line 1)",
     "output_type": "error",
     "traceback": [
      "\u001b[1;36m  File \u001b[1;32m\"<ipython-input-3-2485efcfff4a>\"\u001b[1;36m, line \u001b[1;32m1\u001b[0m\n\u001b[1;33m    if 35 = 35:\u001b[0m\n\u001b[1;37m          ^\u001b[0m\n\u001b[1;31mSyntaxError\u001b[0m\u001b[1;31m:\u001b[0m invalid syntax\n"
     ]
    }
   ],
   "source": [
    "if 35 = 35:\n",
    "    print(\"This is a syntax error\")"
   ]
  },
  {
   "cell_type": "code",
   "execution_count": 4,
   "metadata": {},
   "outputs": [
    {
     "name": "stdout",
     "output_type": "stream",
     "text": [
      "The number is greater than zero 224\n"
     ]
    }
   ],
   "source": [
    "num = 224\n",
    "if num > 0:\n",
    "    print(\"The number is greater than zero\", num)"
   ]
  },
  {
   "cell_type": "code",
   "execution_count": 5,
   "metadata": {},
   "outputs": [
    {
     "name": "stdout",
     "output_type": "stream",
     "text": [
      "Both value are equal\n"
     ]
    }
   ],
   "source": [
    "if 35 + 65 == 90 + 10:\n",
    "    print(\"Both value are equal\")"
   ]
  },
  {
   "cell_type": "code",
   "execution_count": 6,
   "metadata": {},
   "outputs": [
    {
     "ename": "IndentationError",
     "evalue": "expected an indented block (<ipython-input-6-2edd8bcd7139>, line 2)",
     "output_type": "error",
     "traceback": [
      "\u001b[1;36m  File \u001b[1;32m\"<ipython-input-6-2edd8bcd7139>\"\u001b[1;36m, line \u001b[1;32m2\u001b[0m\n\u001b[1;33m    print(\"This is indentation  error in python\")\u001b[0m\n\u001b[1;37m        ^\u001b[0m\n\u001b[1;31mIndentationError\u001b[0m\u001b[1;31m:\u001b[0m expected an indented block\n"
     ]
    }
   ],
   "source": [
    "if 55 != 34:\n",
    "print(\"This is indentation  error in python\")"
   ]
  },
  {
   "cell_type": "code",
   "execution_count": 7,
   "metadata": {
    "collapsed": true
   },
   "outputs": [],
   "source": [
    "salary = 1000\n",
    "expenses = 770"
   ]
  },
  {
   "cell_type": "code",
   "execution_count": 8,
   "metadata": {},
   "outputs": [
    {
     "name": "stdout",
     "output_type": "stream",
     "text": [
      "Person living within means\n"
     ]
    }
   ],
   "source": [
    "living_within_means = False\n",
    "if salary - expenses > 0:\n",
    "    print(\"Person living within means\")"
   ]
  },
  {
   "cell_type": "code",
   "execution_count": 9,
   "metadata": {},
   "outputs": [
    {
     "name": "stdout",
     "output_type": "stream",
     "text": [
      "100 > 50 > 10\n"
     ]
    }
   ],
   "source": [
    "if 100 > 50 > 10:\n",
    "    print(\"100 > 50 > 10\")"
   ]
  },
  {
   "cell_type": "code",
   "execution_count": 10,
   "metadata": {
    "collapsed": true
   },
   "outputs": [],
   "source": [
    "if 100 < 50 < 10:\n",
    "    print(\"Nothing will be printed\")"
   ]
  },
  {
   "cell_type": "code",
   "execution_count": 11,
   "metadata": {},
   "outputs": [
    {
     "name": "stdout",
     "output_type": "stream",
     "text": [
      "I am glad you are saving but your expenses could be low?\n"
     ]
    }
   ],
   "source": [
    "salary = 1000\n",
    "expenses = 770\n",
    "living_within_means = salary - expenses > 0\n",
    "if living_within_means and expenses > 500:\n",
    "    print(\"I am glad you are saving but your expenses could be low?\")"
   ]
  },
  {
   "cell_type": "code",
   "execution_count": 12,
   "metadata": {},
   "outputs": [
    {
     "name": "stdout",
     "output_type": "stream",
     "text": [
      "Hello Salman!\n"
     ]
    }
   ],
   "source": [
    "if 2 <= 5 or 7 >= 8:\n",
    "    print(\"Hello Salman!\")"
   ]
  },
  {
   "cell_type": "code",
   "execution_count": 13,
   "metadata": {},
   "outputs": [
    {
     "name": "stdout",
     "output_type": "stream",
     "text": [
      "Total saving  230\n"
     ]
    }
   ],
   "source": [
    "salary = 1000\n",
    "expenses = 770\n",
    "saving = 0 \n",
    "\n",
    "if salary > expenses:\n",
    "    saving = salary - expenses\n",
    "    print(\"Total saving \", saving)"
   ]
  },
  {
   "cell_type": "code",
   "execution_count": 14,
   "metadata": {},
   "outputs": [
    {
     "name": "stdout",
     "output_type": "stream",
     "text": [
      "Saving for the month:  230\n"
     ]
    }
   ],
   "source": [
    "salary = 1000\n",
    "expenses = 770\n",
    "if salary > expenses:\n",
    "    print(\"Saving for the month: \", salary - expenses)\n",
    "else:\n",
    "    print(\"Loans to tide you over: \", expenses - salary)"
   ]
  },
  {
   "cell_type": "code",
   "execution_count": 16,
   "metadata": {},
   "outputs": [
    {
     "name": "stdout",
     "output_type": "stream",
     "text": [
      "The smallest value in the list is negative\n"
     ]
    }
   ],
   "source": [
    "some_list = [100, 23, 14, -10, -4, -54]\n",
    "if min(some_list) < 0:\n",
    "    print(\"The smallest value in the list is negative\")\n",
    "else:\n",
    "    print(\"The smallest value in the list is positive\")"
   ]
  },
  {
   "cell_type": "code",
   "execution_count": 18,
   "metadata": {},
   "outputs": [
    {
     "name": "stdout",
     "output_type": "stream",
     "text": [
      "Saving for the month is:  230\n",
      "Saving:  230 Loan:  0\n"
     ]
    }
   ],
   "source": [
    "salary = 1000\n",
    "expenses = 770\n",
    "savings = 0\n",
    "loans = 0\n",
    "\n",
    "if salary > expenses:\n",
    "    savings = salary - expenses\n",
    "    print(\"Saving for the month is: \", savings)\n",
    "else:\n",
    "    loans = expenses - salary\n",
    "    print(\"Loan of the month is: \", loans)\n",
    "print(\"Saving: \", savings, \"Loan: \", loans)"
   ]
  },
  {
   "cell_type": "markdown",
   "metadata": {},
   "source": [
    "## if in lists and Dictionaries"
   ]
  },
  {
   "cell_type": "code",
   "execution_count": 22,
   "metadata": {
    "collapsed": true
   },
   "outputs": [],
   "source": [
    "classic_cars = [\"Pierce Arrow\", \"Oldsmobile\", \"Mustang\"]\n",
    "\n",
    "sports_cars = [\"Agera\", \"Regera\", \"Chiron\", \"Veyron\"]\n",
    "\n",
    "planes = [\"A380\", \"747\", \"A370\"]"
   ]
  },
  {
   "cell_type": "code",
   "execution_count": 23,
   "metadata": {},
   "outputs": [
    {
     "name": "stdout",
     "output_type": "stream",
     "text": [
      "That is not a very long list of classic cars\n"
     ]
    }
   ],
   "source": [
    "if len(classic_cars) < 5:\n",
    "    print(\"That is not a very long list of classic cars\")"
   ]
  },
  {
   "cell_type": "code",
   "execution_count": 25,
   "metadata": {},
   "outputs": [
    {
     "name": "stdout",
     "output_type": "stream",
     "text": [
      "Transportation through sports car\n"
     ]
    }
   ],
   "source": [
    "transportation = \"Chiron\"\n",
    "\n",
    "if transportation in classic_cars:\n",
    "    print(\"Transportation through classic car\")\n",
    "\n",
    "if transportation in sports_cars:\n",
    "    print(\"Transportation through sports car\")\n",
    "\n",
    "if transportation in planes:\n",
    "    print(\"Transportation through plane\")"
   ]
  },
  {
   "cell_type": "code",
   "execution_count": 26,
   "metadata": {
    "collapsed": true
   },
   "outputs": [],
   "source": [
    "luxury_cars_and_their_horsepower = {\"Phantom\": 414,\n",
    "                                   \"Cullinan\": 420,\n",
    "                                   \"Wraith\": 465,\n",
    "                                   \"Dawn\": 420}"
   ]
  },
  {
   "cell_type": "code",
   "execution_count": 27,
   "metadata": {},
   "outputs": [
    {
     "name": "stdout",
     "output_type": "stream",
     "text": [
      "Phantom is luxury_cars_and_their_horsepower\n"
     ]
    }
   ],
   "source": [
    "if \"Phantom\" in luxury_cars_and_their_horsepower:\n",
    "    print(\"Phantom is luxury_cars_and_their_horsepower\")"
   ]
  },
  {
   "cell_type": "code",
   "execution_count": 28,
   "metadata": {},
   "outputs": [
    {
     "name": "stdout",
     "output_type": "stream",
     "text": [
      "Maybatch not in luxury_cars_and_their_horsepower\n"
     ]
    }
   ],
   "source": [
    "if \"Maybatch\" not in luxury_cars_and_their_horsepower:\n",
    "    print(\"Maybatch not in luxury_cars_and_their_horsepower\")"
   ]
  },
  {
   "cell_type": "markdown",
   "metadata": {},
   "source": [
    "## multiple if conditions"
   ]
  },
  {
   "cell_type": "code",
   "execution_count": 32,
   "metadata": {},
   "outputs": [
    {
     "name": "stdout",
     "output_type": "stream",
     "text": [
      "Your effort is creating differance but you push your limit no one will stop you from getting best grade 79\n"
     ]
    }
   ],
   "source": [
    "math_score = 79\n",
    "\n",
    "if math_score < 20:\n",
    "    print(\"I'm afraid that is not a good score!\", math_score)\n",
    "    \n",
    "elif math_score < 50:\n",
    "    print(\"If you do more work you can improve!\", math_score)\n",
    "\n",
    "elif math_score < 80:\n",
    "    print(\"Your effort is creating differance but you push your limit no one will stop you from getting best grade\", math_score)\n",
    "\n",
    "elif math_score < 100:\n",
    "    print(\"You did awesome in  maths!\", math_score)"
   ]
  },
  {
   "cell_type": "code",
   "execution_count": null,
   "metadata": {
    "collapsed": true
   },
   "outputs": [],
   "source": []
  }
 ],
 "metadata": {
  "kernelspec": {
   "display_name": "Python 3",
   "language": "python",
   "name": "python3"
  },
  "language_info": {
   "codemirror_mode": {
    "name": "ipython",
    "version": 3
   },
   "file_extension": ".py",
   "mimetype": "text/x-python",
   "name": "python",
   "nbconvert_exporter": "python",
   "pygments_lexer": "ipython3",
   "version": "3.6.1"
  }
 },
 "nbformat": 4,
 "nbformat_minor": 2
}
